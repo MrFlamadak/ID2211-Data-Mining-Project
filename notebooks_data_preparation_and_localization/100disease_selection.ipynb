{
 "cells": [
  {
   "cell_type": "code",
   "execution_count": 1,
   "id": "db89c3c8-95a4-4f76-b60a-0f83f6aa094b",
   "metadata": {},
   "outputs": [
    {
     "name": "stdout",
     "output_type": "stream",
     "text": [
      "Initial disease count (no filtering): 277\n",
      "Filtered disease count (20–600 genes): 152\n"
     ]
    }
   ],
   "source": [
    "import pandas as pd\n",
    "\n",
    "# manuallynamed the columns\n",
    "colnames = [\n",
    "    \"gene_id\", \"gene_symbol\", \"disease_id\", \"disease_name\",\n",
    "    \"source\", \"evidence_type\", \"confidence_score\"\n",
    "]\n",
    "\n",
    "df = pd.read_csv(\"/Volumes/my_expansion/human_disease_experiments_filtered.tsv\", sep='\\t', names=colnames)\n",
    "\n",
    "# remove entries with empty gene symbol\n",
    "#df = df[df[\"gene_symbol\"].notna() & df[\"gene_symbol\"].str.len() > 0]\n",
    "\n",
    "# print initial # of diseases\n",
    "initial_disease_count = df[\"disease_id\"].nunique()\n",
    "print(f\"Initial disease count (no filtering): {initial_disease_count}\")\n",
    "\n",
    "# construct disease → gene set\n",
    "disease_to_genes = df.groupby(\"disease_id\")[\"gene_symbol\"].apply(set)\n",
    "\n",
    "# filtering: diseases have suitable (20-400) gene number\n",
    "filtered_disease_to_genes = disease_to_genes[\n",
    "    disease_to_genes.apply(lambda x: 20 <= len(x) <= 600)\n",
    "].to_dict()\n",
    "\n",
    "print(f\"Filtered disease count (20–600 genes): {len(filtered_disease_to_genes)}\")\n"
   ]
  },
  {
   "cell_type": "code",
   "execution_count": 3,
   "id": "35f122a4-b450-4e99-93fe-ce3e379bc8d8",
   "metadata": {},
   "outputs": [
    {
     "name": "stdout",
     "output_type": "stream",
     "text": [
      "Extracted 3974 DOID → MeSH mappings.\n"
     ]
    }
   ],
   "source": [
    "doid_to_mesh = {}\n",
    "\n",
    "with open(\"/Volumes/my_expansion/doid.obo\", \"r\") as f:\n",
    "    current_doid = None\n",
    "    for line in f:\n",
    "        line = line.strip()\n",
    "        if line.startswith(\"id: DOID:\"):\n",
    "            current_doid = line.split(\"id: \")[1]\n",
    "        elif line.startswith(\"xref: MESH:\") and current_doid:\n",
    "            mesh_id = line.split(\"xref: MESH:\")[1]\n",
    "            doid_to_mesh[current_doid] = mesh_id\n",
    "        elif line == \"\":\n",
    "            current_doid = None  # reset, avoid wrong mapping across terms\n",
    "\n",
    "print(f\"Extracted {len(doid_to_mesh)} DOID → MeSH mappings.\")"
   ]
  },
  {
   "cell_type": "code",
   "execution_count": 5,
   "id": "9c005b6e-f54b-4c98-a818-8104372a9b12",
   "metadata": {},
   "outputs": [
    {
     "name": "stdout",
     "output_type": "stream",
     "text": [
      "Found MeSH for 119 out of 152 diseases.\n",
      "Missing MeSH for: ['DOID:10211', 'DOID:0050169', 'DOID:14042', 'DOID:14566', 'DOID:3451', 'DOID:2163', 'DOID:676', 'DOID:8557', 'DOID:3907', 'DOID:3905']\n"
     ]
    }
   ],
   "source": [
    "doids = set(filtered_disease_to_genes.keys())\n",
    "mapped = {d: doid_to_mesh[d] for d in doids if d in doid_to_mesh}\n",
    "unmapped = [d for d in doids if d not in doid_to_mesh]\n",
    "\n",
    "print(f\"Found MeSH for {len(mapped)} out of {len(doids)} diseases.\")\n",
    "print(\"Missing MeSH for:\", unmapped[:10])"
   ]
  },
  {
   "cell_type": "code",
   "execution_count": 7,
   "id": "ab74de52-c387-495a-bedf-1120405b3cdf",
   "metadata": {},
   "outputs": [],
   "source": [
    "with open(\"doid_to_mesh.tsv\", \"w\") as f:\n",
    "    for doid, mesh in mapped.items():\n",
    "        f.write(f\"{doid}\\t{mesh}\\n\")"
   ]
  },
  {
   "cell_type": "code",
   "execution_count": 33,
   "id": "5f93cb6d-ecc0-4534-94f5-3a4ea35991ed",
   "metadata": {},
   "outputs": [
    {
     "name": "stdout",
     "output_type": "stream",
     "text": [
      "✅ number of diseases passed: 112\n",
      "❌ number of diseases filtered out: 7\n",
      "\n",
      " details of thoes filtered out (DOID, disease name, depth):\n",
      "- DOID:37 (skin disease), depth: 3\n",
      "- DOID:10892 (hypospadias), depth: 2\n",
      "- DOID:5295 (intestinal disease), depth: 3\n",
      "- DOID:0060262 (gallbladder disease), depth: 3\n",
      "- DOID:178 (vascular disease), depth: 3\n",
      "- DOID:8536 (herpes zoster), depth: 3\n",
      "- DOID:8534 (gastroesophageal reflux disease), depth: 3\n"
     ]
    }
   ],
   "source": [
    "#construct global mapping from DOID to parents\n",
    "\n",
    "from collections import defaultdict\n",
    "\n",
    "doid_parents = defaultdict(set)\n",
    "current_id = None\n",
    "doid_names = {}\n",
    "\n",
    "with open(\"/Volumes/my_expansion/doid.obo\", \"r\") as f:\n",
    "    for line in f:\n",
    "        line = line.strip()\n",
    "        if line.startswith(\"id: DOID:\"):\n",
    "            current_id = line.split(\"id: \")[1]\n",
    "        elif line.startswith(\"is_a:\") and current_id:\n",
    "            parent = line.split(\"is_a: \")[1].split(\" !\")[0]\n",
    "            doid_parents[current_id].add(parent)\n",
    "        elif line.startswith(\"name:\") and current_id:\n",
    "            name = line.split(\"name: \")[1]\n",
    "            doid_names[current_id] = name\n",
    "\n",
    "# calculate depth of each DOID\n",
    "def calculate_depth(doid, doid_parents, depth_cache=None):\n",
    "    if depth_cache is None:\n",
    "        depth_cache = {}\n",
    "    if doid in depth_cache:\n",
    "        return depth_cache[doid]\n",
    "    \n",
    "    parents = doid_parents.get(doid, set())\n",
    "    if not parents:\n",
    "        depth = 0 if doid == \"DOID:4\" else -1  #root:DOID:4, set depth = -1 to isolated DOID\n",
    "    else:\n",
    "        depth = max(calculate_depth(p, doid_parents, depth_cache) for p in parents) + 1\n",
    "    \n",
    "    depth_cache[doid] = depth\n",
    "    return depth\n",
    "\n",
    "# only care about diseases inside mapped set\n",
    "depth_cache = {}\n",
    "for doid in mapped:\n",
    "    calculate_depth(doid, doid_parents, depth_cache)\n",
    "\n",
    "# filtering\n",
    "min_depth = 4\n",
    "passed = []    # diseases that passed filter\n",
    "filtered_out = [] # diseases that filtered out\n",
    "\n",
    "for doid in mapped:\n",
    "    depth = depth_cache.get(doid, -1)\n",
    "    if depth >= min_depth:\n",
    "        passed.append(doid)\n",
    "    else:\n",
    "        filtered_out.append((doid, depth))\n",
    "\n",
    "print(f\"✅ number of diseases passed: {len(passed)}\")\n",
    "print(f\"❌ number of diseases filtered out: {len(filtered_out)}\")\n",
    "\n",
    "print(\"\\n details of thoes filtered out (DOID, disease name, depth):\")\n",
    "for doid, depth in filtered_out:\n",
    "    name = doid_names.get(doid, \"name\")\n",
    "    print(f\"- {doid} ({name}), depth: {depth}\")"
   ]
  },
  {
   "cell_type": "code",
   "execution_count": 65,
   "id": "6083d33e-1147-46c0-b4ee-37596c63c4dd",
   "metadata": {},
   "outputs": [
    {
     "name": "stdout",
     "output_type": "stream",
     "text": [
      "discover 26 pairs of similar diseases (similarity > 70%):\n",
      "Hepatitis B ≈ Hepatitis C (90.0%)\n",
      "Hypothyroidism ≈ Hyperthyroidism (89.7%)\n",
      "Diabetes mellitus ≈ Type 1 diabetes mellitus (86.5%)\n",
      "Renal cell carcinoma ≈ Basal cell carcinoma (83.3%)\n",
      "Squamous cell carcinoma ≈ Esophagus squamous cell carcinoma (82.4%)\n",
      "Squamous cell carcinoma ≈ Laryngeal squamous cell carcinoma (82.4%)\n",
      "Skin melanoma ≈ Melanoma (80.0%)\n",
      "Testicular germ cell cancer ≈ Testicular cancer (80.0%)\n",
      "IgA glomerulonephritis ≈ Membranous glomerulonephritis (77.6%)\n",
      "Basal cell carcinoma ≈ Squamous cell carcinoma (76.9%)\n",
      "Esophagus squamous cell carcinoma ≈ Laryngeal squamous cell carcinoma (76.7%)\n",
      "Alcoholic liver cirrhosis ≈ Liver cirrhosis (75.7%)\n",
      "Esophagus adenocarcinoma ≈ Esophagus squamous cell carcinoma (75.5%)\n",
      "Liver disease ≈ Alzheimer's disease (73.3%)\n",
      "Esophagus adenocarcinoma ≈ Lung adenocarcinoma (73.2%)\n",
      "Renal cell carcinoma ≈ Hepatocellular carcinoma (73.2%)\n",
      "Breast carcinoma ≈ Renal cell carcinoma (72.7%)\n",
      "Breast carcinoma ≈ Basal cell carcinoma (72.7%)\n",
      "Renal cell carcinoma ≈ Lung non-small cell carcinoma (72.7%)\n",
      "Basal cell carcinoma ≈ Lung non-small cell carcinoma (72.7%)\n",
      "Alopecia areata ≈ Alopecia (72.7%)\n",
      "Celiac disease ≈ Liver disease (72.0%)\n",
      "Glioblastoma ≈ Neuroblastoma (72.0%)\n",
      "Renal cell carcinoma ≈ Squamous cell carcinoma (71.8%)\n",
      "Renal cell carcinoma ≈ Laryngeal squamous cell carcinoma (70.8%)\n",
      "Rheumatoid arthritis ≈ Psoriatic arthritis (70.3%)\n"
     ]
    }
   ],
   "source": [
    "filtered_df = df[df[\"disease_id\"].isin(passed)] # the set 'passed' stored the doids that path the depth threshold\n",
    "name_list = list(filtered_df[\"disease_name\"].unique())\n",
    "from rapidfuzz import fuzz\n",
    "\n",
    "similar_pairs = []\n",
    "\n",
    "for i, name1 in enumerate(name_list):\n",
    "    for j in range(i+1, len(name_list)):\n",
    "        name2 = name_list[j]\n",
    "        # unify names to lowercase letters and remove Spaces/symbols\n",
    "        name1_clean = name1.lower().replace(\" \", \"\").strip(\",-_\")\n",
    "        name2_clean = name2.lower().replace(\" \", \"\").strip(\",-_\")\n",
    "        # use token_sort_ratio to ignore the words' order differences\n",
    "        score = fuzz.token_sort_ratio(name1_clean, name2_clean)\n",
    "        if score > 70:\n",
    "            similar_pairs.append((name1, name2, score))\n",
    "\n",
    "# sort in similarity, reverse\n",
    "similar_pairs.sort(key=lambda x: x[2], reverse=True)\n",
    "\n",
    "print(f\"discover {len(similar_pairs)} pairs of similar diseases (similarity > 70%):\")\n",
    "for name1, name2, score in similar_pairs:\n",
    "    print(f\"{name1} ≈ {name2} ({score:.1f}%)\")"
   ]
  },
  {
   "cell_type": "code",
   "execution_count": 67,
   "id": "932bf018-658b-4422-a741-a266fe0dc8c7",
   "metadata": {},
   "outputs": [
    {
     "name": "stdout",
     "output_type": "stream",
     "text": [
      "number of diseases after delete similar terms:: 106\n"
     ]
    }
   ],
   "source": [
    "name_to_doid = df.set_index(\"disease_name\")[\"disease_id\"].to_dict()\n",
    "\n",
    "namelist_to_delete = [\n",
    "    \"Alopecia\",           # generic terms (keep Alopecia areata)\n",
    "    \"Melanoma\",           # generic terms (keep Skin melanoma)\n",
    "    \"Testicular cancer\",  # generic terms (keep Testicular germ cell cancer)\n",
    "    \"Liver cirrhosis\",    # generic terms (keep Alcoholic liver cirrhosis)\n",
    "    \"Diabetes mellitus\",  # generic terms (keep Type 1 diabetes mellitus)\n",
    "    \"Squamous cell carcinoma\"  # generic terms (keep subtypes)\n",
    "]\n",
    "\n",
    "remove_similar_DOID = [name_to_doid[name] for name in namelist_to_delete if name in name_to_doid]\n",
    "passed_similar_depth = [doid for doid in passed if doid not in remove_similar_DOID]\n",
    "print(f\"number of diseases after delete similar terms:: {len(passed_similar_depth)}\")"
   ]
  },
  {
   "cell_type": "code",
   "execution_count": 73,
   "id": "73d86971-7750-4b9e-b022-e4ae467a3345",
   "metadata": {},
   "outputs": [
    {
     "name": "stdout",
     "output_type": "stream",
     "text": [
      "✅ Final selected diseases: 100\n",
      " 1. DOID:8577: 585 genes\n",
      " 2. DOID:0060224: 566 genes\n",
      " 3. DOID:1459: 528 genes\n",
      " 4. DOID:7148: 528 genes\n",
      " 5. DOID:10763: 474 genes\n",
      " 6. DOID:5844: 446 genes\n",
      " 7. DOID:0050589: 433 genes\n",
      " 8. DOID:0050425: 408 genes\n",
      " 9. DOID:7188: 407 genes\n",
      "10. DOID:3459: 397 genes\n"
     ]
    }
   ],
   "source": [
    "final_candidates = {\n",
    "    doid: genes\n",
    "    for doid, genes in filtered_disease_to_genes.items()\n",
    "    if doid in passed_similar_depth\n",
    "}\n",
    "\n",
    "sorted_final = sorted(\n",
    "    final_candidates.items(),\n",
    "    key=lambda item: len(item[1]),\n",
    "    reverse=True\n",
    ")\n",
    "\n",
    "# pick the top 100 diseases with most related genes\n",
    "final_100_disease_to_genes = dict(sorted_final[:100])\n",
    "print(f\"✅ Final selected diseases: {len(final_100_disease_to_genes)}\")\n",
    "\n",
    "for i, (doid, genes) in enumerate(sorted_final[:10]):\n",
    "    print(f\"{i+1:2d}. {doid}: {len(genes)} genes\")"
   ]
  },
  {
   "cell_type": "code",
   "execution_count": 75,
   "id": "1e10ee8d-691c-4674-a561-be919dc8d32e",
   "metadata": {},
   "outputs": [],
   "source": [
    "with open(\"selected_diseases.tsv\", \"w\") as f:\n",
    "    f.write(\"DOID\\tGeneCount\\n\")\n",
    "    for doid, genes in final_100_disease_to_genes.items():\n",
    "        f.write(f\"{doid}\\t{len(genes)}\\n\")"
   ]
  },
  {
   "cell_type": "code",
   "execution_count": null,
   "id": "aebc839f-113b-4b4a-a8b1-3ae789362425",
   "metadata": {},
   "outputs": [],
   "source": []
  }
 ],
 "metadata": {
  "kernelspec": {
   "display_name": "Python 3 (ipykernel)",
   "language": "python",
   "name": "python3"
  },
  "language_info": {
   "codemirror_mode": {
    "name": "ipython",
    "version": 3
   },
   "file_extension": ".py",
   "mimetype": "text/x-python",
   "name": "python",
   "nbconvert_exporter": "python",
   "pygments_lexer": "ipython3",
   "version": "3.13.2"
  }
 },
 "nbformat": 4,
 "nbformat_minor": 5
}
