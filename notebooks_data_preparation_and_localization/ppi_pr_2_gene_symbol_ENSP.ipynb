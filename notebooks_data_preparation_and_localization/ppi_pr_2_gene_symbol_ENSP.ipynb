{
 "cells": [
  {
   "cell_type": "code",
   "execution_count": 24,
   "id": "5d27c69b-d6f2-4597-905b-2e2f38abe219",
   "metadata": {},
   "outputs": [
    {
     "name": "stdout",
     "output_type": "stream",
     "text": [
      "✅ Got 19409 ENSP → HUGO gene symbol mappings.\n",
      "✅ Got 19699 ENSP → ENSG mappings.\n"
     ]
    }
   ],
   "source": [
    "import gzip\n",
    "\n",
    "alias_file = \"/Volumes/my_expansion/9606.protein.aliases.v12.0.txt.gz\"\n",
    "\n",
    "# ENSP → HUGO Gene Symbol\n",
    "protein_to_symbol = {}\n",
    "ENSP_to_ENSG = {}\n",
    "\n",
    "with gzip.open(alias_file, 'rt') as f:\n",
    "    for line in f:\n",
    "        parts = line.strip().split('\\t')\n",
    "        if len(parts) != 3:\n",
    "            continue\n",
    "        protein_id, alias, source = parts\n",
    "        if source in {\"Ensembl_HGNC_symbol\",\"BioMart_HUGO\",\"\"}:\n",
    "            protein_to_symbol[protein_id] = alias          \n",
    "print(f\"✅ Got {len(protein_to_symbol)} ENSP → HUGO gene symbol mappings.\")\n",
    "\n",
    "with gzip.open(alias_file, 'rt') as f:\n",
    "    for line in f:\n",
    "        parts = line.strip().split('\\t')\n",
    "        if len(parts) != 3:\n",
    "            continue\n",
    "        protein_id, alias, source = parts\n",
    "        if source in {\"Ensembl_HGNC_ensembl_gene_id\", \"Ensembl_gene\"} and alias.startswith(\"ENSG\"):\n",
    "            ENSP_to_ENSG[protein_id] = alias\n",
    "print(f\"✅ Got {len(ENSP_to_ENSG)} ENSP → ENSG mappings.\")"
   ]
  },
  {
   "cell_type": "code",
   "execution_count": 26,
   "id": "5b46e3c6-6531-468a-850b-caa23cc4e6cb",
   "metadata": {},
   "outputs": [
    {
     "name": "stdout",
     "output_type": "stream",
     "text": [
      "✅ Done! Output saved to: /Volumes/my_expansion/ppi_hugo.tsv with 1466856 edges.\n"
     ]
    }
   ],
   "source": [
    "import pandas as pd\n",
    "\n",
    "ppi_file = \"/Volumes/my_expansion/9606.protein.physical.links.full.v12.0.txt.gz\"\n",
    "ppi_outfile = \"/Volumes/my_expansion/ppi_hugo.tsv\"\n",
    "\n",
    "ppi_df = pd.read_csv(ppi_file, sep=' ', usecols=['protein1', 'protein2', 'combined_score'])\n",
    "\n",
    "# mapping both ends to gene symbol\n",
    "ppi_df = ppi_df[\n",
    "    (ppi_df['protein1'].isin(protein_to_symbol)) &\n",
    "    (ppi_df['protein2'].isin(protein_to_symbol))\n",
    "].copy()\n",
    "\n",
    "# 映射成 gene name\n",
    "ppi_df['GeneA'] = ppi_df['protein1'].map(protein_to_symbol)\n",
    "ppi_df['GeneB'] = ppi_df['protein2'].map(protein_to_symbol)\n",
    "\n",
    "# 最终保留三列：GeneA, GeneB, Score\n",
    "ppi_final = ppi_df[['GeneA', 'GeneB', 'combined_score']]\n",
    "ppi_final.to_csv(ppi_outfile, sep='\\t', index=False)\n",
    "\n",
    "print(f\"✅ Done! Output saved to: {ppi_outfile} with {len(ppi_final)} edges.\")\n"
   ]
  },
  {
   "cell_type": "code",
   "execution_count": null,
   "id": "1cd3e3ec-6c57-4c9e-8423-a27852d9bf78",
   "metadata": {},
   "outputs": [],
   "source": []
  }
 ],
 "metadata": {
  "kernelspec": {
   "display_name": "Python 3 (ipykernel)",
   "language": "python",
   "name": "python3"
  },
  "language_info": {
   "codemirror_mode": {
    "name": "ipython",
    "version": 3
   },
   "file_extension": ".py",
   "mimetype": "text/x-python",
   "name": "python",
   "nbconvert_exporter": "python",
   "pygments_lexer": "ipython3",
   "version": "3.12.4"
  }
 },
 "nbformat": 4,
 "nbformat_minor": 5
}
